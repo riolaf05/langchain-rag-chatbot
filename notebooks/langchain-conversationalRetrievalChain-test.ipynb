{
 "cells": [
  {
   "cell_type": "code",
   "execution_count": 23,
   "metadata": {},
   "outputs": [],
   "source": [
    "COLLECTION_NAME = \"web-places\""
   ]
  },
  {
   "cell_type": "code",
   "execution_count": 24,
   "metadata": {},
   "outputs": [
    {
     "name": "stderr",
     "output_type": "stream",
     "text": [
      "Fetching 5 files: 100%|██████████| 5/5 [00:00<?, ?it/s]\n"
     ]
    }
   ],
   "source": [
    "import os\n",
    "import sys\n",
    "sys.path.append(\"..\")\n",
    "import json\n",
    "from datetime import datetime\n",
    "from groq import Groq\n",
    "from dotenv import load_dotenv\n",
    "load_dotenv(override=True)\n",
    "groq = Groq(\n",
    "    api_key=os.environ.get(\"GROQ_API_KEY\"),\n",
    ")\n",
    "from langchain.memory import ConversationBufferMemory\n",
    "from langchain.chains import ConversationalRetrievalChain\n",
    "from langchain.prompts import (\n",
    "    ChatPromptTemplate,\n",
    "    HumanMessagePromptTemplate,\n",
    "    SystemMessagePromptTemplate,\n",
    ")\n",
    "\n",
    "from langchain_groq import ChatGroq\n",
    "from utils import database_managers, embedding\n",
    "\n",
    "\n",
    "llm = ChatGroq(temperature=0, model_name=\"Llama3-8b-8192\")\n",
    "embedding = embedding.EmbeddingFunction('fast-bgeEmbedding').embedder"
   ]
  },
  {
   "cell_type": "code",
   "execution_count": 25,
   "metadata": {},
   "outputs": [
    {
     "name": "stdout",
     "output_type": "stream",
     "text": [
      "Collection web-places already exists!\n"
     ]
    }
   ],
   "source": [
    "vectore_store=qdrantClient = database_managers.QDrantDBManager(\n",
    "    url=os.getenv('QDRANT_URL'),\n",
    "    port=6333,\n",
    "    collection_name=COLLECTION_NAME,\n",
    "    vector_size=768, #??\n",
    "    embedding=embedding,\n",
    "    record_manager_url=r\"sqlite:///record_manager_cache.sql\"\n",
    ")\n",
    "retriever = vectore_store_client=vectore_store.vector_store.as_retriever()"
   ]
  },
  {
   "cell_type": "code",
   "execution_count": 26,
   "metadata": {},
   "outputs": [],
   "source": [
    "system_message_prompt = SystemMessagePromptTemplate.from_template(\n",
    "    \"\"\"\n",
    "        Sei un assistente nella ricerca di ristoranti o locali o eventi. Date le informazioni di contesto restituisci una lista di ristoranti, locali, eventi richiesti,\n",
    "        che soddisfano i requisiti di ricerca.\n",
    "\n",
    "        Per ogni elemento indica sempre:\n",
    "          + nome del ristorante, locale, evento\n",
    "          + indirizzo\n",
    "          + descrizione\n",
    "\n",
    "        Se non riesci a trovare le suddette informazioni scrivi un <informazione non disponibile> al su posto.\n",
    "\n",
    "        Non rispondere a domande non legate a ristoranti, locali o eventi. \n",
    "\n",
    "        Data una domanda, rispondi con la documentazione più rilevante dal contesto di seguito:\n",
    "        {context}\n",
    "        \"\"\"\n",
    ")\n",
    "human_message_prompt = HumanMessagePromptTemplate.from_template(\"{question}\")"
   ]
  },
  {
   "cell_type": "code",
   "execution_count": 27,
   "metadata": {},
   "outputs": [],
   "source": [
    "memory = ConversationBufferMemory(memory_key=\"chat_history\", return_messages=True)"
   ]
  },
  {
   "cell_type": "code",
   "execution_count": 34,
   "metadata": {},
   "outputs": [
    {
     "data": {
      "text/plain": [
       "ConversationBufferMemory(chat_memory=InMemoryChatMessageHistory(messages=[HumanMessage(content='Dove posso mangiare in montagna?'), AIMessage(content='Ecco alcuni ristoranti in montagna che ti consiglio:\\n\\n1. **KRO** - Via Tollarini 70/C, Temù (BS) - Un ristorante in stile montano con cucina basata su ingredienti locali e proposte di carne e pesce.\\n2. **RIFUGIO IL PASTORE** - Un ristorante con cucina tradizionale e vista panoramica sulla montagna.\\n\\nSpero che questo ti sia stato utile!'), HumanMessage(content=\"Qual'è l'ultimo locale che mi hai consigliato?\"), AIMessage(content=\"I'm happy to help! According to the text, the last restaurant I recommended is Trattoria San Filippo Neri. Here's the information:\\n\\n* Name: Trattoria San Filippo Neri\\n* Address: Viale Monza 220, Milano\\n* Description: A historic trattoria with simple and genuine dishes and a friendly and cozy atmosphere.\")]), return_messages=True, memory_key='chat_history')"
      ]
     },
     "execution_count": 34,
     "metadata": {},
     "output_type": "execute_result"
    }
   ],
   "source": [
    "memory"
   ]
  },
  {
   "cell_type": "code",
   "execution_count": 28,
   "metadata": {},
   "outputs": [],
   "source": [
    "conversation_chain = ConversationalRetrievalChain.from_llm(\n",
    "        llm=llm,\n",
    "        retriever=retriever,\n",
    "        memory=memory,\n",
    "        combine_docs_chain_kwargs={\n",
    "            \"prompt\": ChatPromptTemplate.from_messages(\n",
    "                [\n",
    "                    system_message_prompt,\n",
    "                    human_message_prompt,\n",
    "                ]\n",
    "            ),\n",
    "        },\n",
    "    )"
   ]
  },
  {
   "cell_type": "code",
   "execution_count": 29,
   "metadata": {},
   "outputs": [],
   "source": [
    "res = conversation_chain.invoke({\"question\": \"Dove posso mangiare in montagna?\"})"
   ]
  },
  {
   "cell_type": "code",
   "execution_count": 31,
   "metadata": {},
   "outputs": [
    {
     "name": "stdout",
     "output_type": "stream",
     "text": [
      "Ecco alcuni ristoranti in montagna che ti consiglio:\n",
      "\n",
      "1. **KRO** - Via Tollarini 70/C, Temù (BS) - Un ristorante in stile montano con cucina basata su ingredienti locali e proposte di carne e pesce.\n",
      "2. **RIFUGIO IL PASTORE** - Un ristorante con cucina tradizionale e vista panoramica sulla montagna.\n",
      "\n",
      "Spero che questo ti sia stato utile!\n"
     ]
    }
   ],
   "source": [
    "print(res['answer'])"
   ]
  },
  {
   "cell_type": "code",
   "execution_count": 32,
   "metadata": {},
   "outputs": [],
   "source": [
    "res = conversation_chain.invoke({\"question\": \"Qual'è l'ultimo locale che mi hai consigliato?\"})"
   ]
  },
  {
   "cell_type": "code",
   "execution_count": 33,
   "metadata": {},
   "outputs": [
    {
     "name": "stdout",
     "output_type": "stream",
     "text": [
      "I'm happy to help! According to the text, the last restaurant I recommended is Trattoria San Filippo Neri. Here's the information:\n",
      "\n",
      "* Name: Trattoria San Filippo Neri\n",
      "* Address: Viale Monza 220, Milano\n",
      "* Description: A historic trattoria with simple and genuine dishes and a friendly and cozy atmosphere.\n"
     ]
    }
   ],
   "source": [
    "print(res['answer'])"
   ]
  },
  {
   "cell_type": "code",
   "execution_count": null,
   "metadata": {},
   "outputs": [],
   "source": []
  }
 ],
 "metadata": {
  "kernelspec": {
   "display_name": "langchain",
   "language": "python",
   "name": "python3"
  },
  "language_info": {
   "codemirror_mode": {
    "name": "ipython",
    "version": 3
   },
   "file_extension": ".py",
   "mimetype": "text/x-python",
   "name": "python",
   "nbconvert_exporter": "python",
   "pygments_lexer": "ipython3",
   "version": "3.11.9"
  }
 },
 "nbformat": 4,
 "nbformat_minor": 2
}
